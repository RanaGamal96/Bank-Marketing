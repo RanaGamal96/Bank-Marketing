{
 "cells": [
  {
   "cell_type": "markdown",
   "id": "698f4375",
   "metadata": {},
   "source": [
    "## Bank Marketing"
   ]
  },
  {
   "cell_type": "markdown",
   "id": "1970c208",
   "metadata": {},
   "source": [
    "## Import Essential libraries"
   ]
  },
  {
   "cell_type": "code",
   "execution_count": 3,
   "id": "0d8f2210",
   "metadata": {},
   "outputs": [],
   "source": [
    "import pandas as pd\n",
    "import numpy as np\n",
    "import seaborn as sns\n",
    "import matplotlib.pyplot as plt\n",
    "import warnings\n",
    "warnings.filterwarnings(\"ignore\")"
   ]
  },
  {
   "cell_type": "markdown",
   "id": "4e866173",
   "metadata": {},
   "source": [
    "## Reading the data"
   ]
  },
  {
   "cell_type": "code",
   "execution_count": 4,
   "id": "6f5ec0a5",
   "metadata": {},
   "outputs": [],
   "source": [
    "#read the data \n",
    "df = pd.read_csv(\"bank-full.csv\", na_values= \"unknown\")"
   ]
  },
  {
   "cell_type": "markdown",
   "id": "bcecf882",
   "metadata": {},
   "source": [
    "# Description:\n",
    "1.\t17 columns & 45248 rows\n",
    "2.\tColumns:\n",
    "1 - Age (numeric)\n",
    "2 - Job : type of Job\n",
    "3 - Marital : marital status \n",
    "4 – Education\n",
    "5 - Default: has credit in default? (categorical: 'no','yes','unknown')\n",
    "6 - Housing: has housing loan? (categorical: 'no','yes','unknown')\n",
    "7 - Loan: has personal loan? (categorical: 'no','yes','unknown')\n",
    "8 - contact: contact communication \n",
    "9 - month: last contact month of year \n",
    "10 - day: last contact day of the week\n",
    "11 - duration:  last contact duration, in seconds (numeric)\n",
    "\n",
    "Important note: this attribute highly affects the output target (e.g., if duration=0 then y='no'). Yet, the duration is not known before a call is performed. Also, after the end of the call y is obviously known. Thus, this input should only be included for benchmark purposes and should be discarded if the intention is to have a realistic predictive model.\n",
    "12 - campaign: number of contacts performed during this campaign \n",
    "13 - pdays: number of days that passed by after the client was last contacted 14 - previous: number of contacts performed before this campaign and for this client (numeric)\n",
    "15 - poutcome: outcome of the previous marketing campaign \n",
    "16- y - has the client subscribed a term deposit? (binary: 'yes','no')\n",
    "17- balance is the current balance of each customer\n"
   ]
  },
  {
   "cell_type": "code",
   "execution_count": 6,
   "id": "2c9bde17",
   "metadata": {},
   "outputs": [
    {
     "name": "stdout",
     "output_type": "stream",
     "text": [
      "<class 'pandas.core.frame.DataFrame'>\n",
      "RangeIndex: 45248 entries, 0 to 45247\n",
      "Data columns (total 17 columns):\n",
      " #   Column     Non-Null Count  Dtype \n",
      "---  ------     --------------  ----- \n",
      " 0   age        45248 non-null  int64 \n",
      " 1   job        44959 non-null  object\n",
      " 2   marital    45248 non-null  object\n",
      " 3   education  43390 non-null  object\n",
      " 4   default    45248 non-null  object\n",
      " 5   balance    45248 non-null  int64 \n",
      " 6   housing    45248 non-null  object\n",
      " 7   loan       45248 non-null  object\n",
      " 8   contact    32228 non-null  object\n",
      " 9   day        45248 non-null  int64 \n",
      " 10  month      45248 non-null  object\n",
      " 11  duration   45248 non-null  int64 \n",
      " 12  campaign   45248 non-null  int64 \n",
      " 13  pdays      45248 non-null  int64 \n",
      " 14  previous   45248 non-null  int64 \n",
      " 15  poutcome   8276 non-null   object\n",
      " 16  y          45248 non-null  object\n",
      "dtypes: int64(7), object(10)\n",
      "memory usage: 5.9+ MB\n"
     ]
    }
   ],
   "source": [
    "#check type/no of rows and columns/missing values in each column\n",
    "df.info()"
   ]
  },
  {
   "cell_type": "code",
   "execution_count": 7,
   "id": "705da01a",
   "metadata": {},
   "outputs": [
    {
     "data": {
      "text/plain": [
       "(45248, 17)"
      ]
     },
     "execution_count": 7,
     "metadata": {},
     "output_type": "execute_result"
    }
   ],
   "source": [
    "#check no of rows and columns\n",
    "df.shape"
   ]
  },
  {
   "cell_type": "code",
   "execution_count": 8,
   "id": "3f6c3204",
   "metadata": {},
   "outputs": [
    {
     "data": {
      "text/html": [
       "<div>\n",
       "<style scoped>\n",
       "    .dataframe tbody tr th:only-of-type {\n",
       "        vertical-align: middle;\n",
       "    }\n",
       "\n",
       "    .dataframe tbody tr th {\n",
       "        vertical-align: top;\n",
       "    }\n",
       "\n",
       "    .dataframe thead th {\n",
       "        text-align: right;\n",
       "    }\n",
       "</style>\n",
       "<table border=\"1\" class=\"dataframe\">\n",
       "  <thead>\n",
       "    <tr style=\"text-align: right;\">\n",
       "      <th></th>\n",
       "      <th>age</th>\n",
       "      <th>job</th>\n",
       "      <th>marital</th>\n",
       "      <th>education</th>\n",
       "      <th>default</th>\n",
       "      <th>balance</th>\n",
       "      <th>housing</th>\n",
       "      <th>loan</th>\n",
       "      <th>contact</th>\n",
       "      <th>day</th>\n",
       "      <th>month</th>\n",
       "      <th>duration</th>\n",
       "      <th>campaign</th>\n",
       "      <th>pdays</th>\n",
       "      <th>previous</th>\n",
       "      <th>poutcome</th>\n",
       "      <th>y</th>\n",
       "    </tr>\n",
       "  </thead>\n",
       "  <tbody>\n",
       "    <tr>\n",
       "      <th>0</th>\n",
       "      <td>58</td>\n",
       "      <td>management</td>\n",
       "      <td>married</td>\n",
       "      <td>tertiary</td>\n",
       "      <td>no</td>\n",
       "      <td>2143</td>\n",
       "      <td>yes</td>\n",
       "      <td>no</td>\n",
       "      <td>NaN</td>\n",
       "      <td>5</td>\n",
       "      <td>may</td>\n",
       "      <td>261</td>\n",
       "      <td>1</td>\n",
       "      <td>-1</td>\n",
       "      <td>0</td>\n",
       "      <td>NaN</td>\n",
       "      <td>no</td>\n",
       "    </tr>\n",
       "    <tr>\n",
       "      <th>1</th>\n",
       "      <td>44</td>\n",
       "      <td>technician</td>\n",
       "      <td>single</td>\n",
       "      <td>secondary</td>\n",
       "      <td>no</td>\n",
       "      <td>29</td>\n",
       "      <td>yes</td>\n",
       "      <td>no</td>\n",
       "      <td>NaN</td>\n",
       "      <td>5</td>\n",
       "      <td>may</td>\n",
       "      <td>151</td>\n",
       "      <td>1</td>\n",
       "      <td>-1</td>\n",
       "      <td>0</td>\n",
       "      <td>NaN</td>\n",
       "      <td>no</td>\n",
       "    </tr>\n",
       "    <tr>\n",
       "      <th>2</th>\n",
       "      <td>33</td>\n",
       "      <td>entrepreneur</td>\n",
       "      <td>married</td>\n",
       "      <td>secondary</td>\n",
       "      <td>no</td>\n",
       "      <td>2</td>\n",
       "      <td>yes</td>\n",
       "      <td>yes</td>\n",
       "      <td>NaN</td>\n",
       "      <td>5</td>\n",
       "      <td>may</td>\n",
       "      <td>76</td>\n",
       "      <td>1</td>\n",
       "      <td>-1</td>\n",
       "      <td>0</td>\n",
       "      <td>NaN</td>\n",
       "      <td>no</td>\n",
       "    </tr>\n",
       "    <tr>\n",
       "      <th>3</th>\n",
       "      <td>47</td>\n",
       "      <td>blue-collar</td>\n",
       "      <td>married</td>\n",
       "      <td>NaN</td>\n",
       "      <td>no</td>\n",
       "      <td>1506</td>\n",
       "      <td>yes</td>\n",
       "      <td>no</td>\n",
       "      <td>NaN</td>\n",
       "      <td>5</td>\n",
       "      <td>may</td>\n",
       "      <td>92</td>\n",
       "      <td>1</td>\n",
       "      <td>-1</td>\n",
       "      <td>0</td>\n",
       "      <td>NaN</td>\n",
       "      <td>no</td>\n",
       "    </tr>\n",
       "    <tr>\n",
       "      <th>4</th>\n",
       "      <td>33</td>\n",
       "      <td>NaN</td>\n",
       "      <td>single</td>\n",
       "      <td>NaN</td>\n",
       "      <td>no</td>\n",
       "      <td>1</td>\n",
       "      <td>no</td>\n",
       "      <td>no</td>\n",
       "      <td>NaN</td>\n",
       "      <td>5</td>\n",
       "      <td>may</td>\n",
       "      <td>198</td>\n",
       "      <td>1</td>\n",
       "      <td>-1</td>\n",
       "      <td>0</td>\n",
       "      <td>NaN</td>\n",
       "      <td>no</td>\n",
       "    </tr>\n",
       "  </tbody>\n",
       "</table>\n",
       "</div>"
      ],
      "text/plain": [
       "   age           job  marital  education default  balance housing loan  \\\n",
       "0   58    management  married   tertiary      no     2143     yes   no   \n",
       "1   44    technician   single  secondary      no       29     yes   no   \n",
       "2   33  entrepreneur  married  secondary      no        2     yes  yes   \n",
       "3   47   blue-collar  married        NaN      no     1506     yes   no   \n",
       "4   33           NaN   single        NaN      no        1      no   no   \n",
       "\n",
       "  contact  day month  duration  campaign  pdays  previous poutcome   y  \n",
       "0     NaN    5   may       261         1     -1         0      NaN  no  \n",
       "1     NaN    5   may       151         1     -1         0      NaN  no  \n",
       "2     NaN    5   may        76         1     -1         0      NaN  no  \n",
       "3     NaN    5   may        92         1     -1         0      NaN  no  \n",
       "4     NaN    5   may       198         1     -1         0      NaN  no  "
      ]
     },
     "execution_count": 8,
     "metadata": {},
     "output_type": "execute_result"
    }
   ],
   "source": [
    "#first 5 rows\n",
    "df.head()"
   ]
  },
  {
   "cell_type": "markdown",
   "id": "0530d97f",
   "metadata": {},
   "source": [
    "## Check Duplicates"
   ]
  },
  {
   "cell_type": "code",
   "execution_count": 9,
   "id": "96394ed1",
   "metadata": {},
   "outputs": [
    {
     "data": {
      "text/plain": [
       "37"
      ]
     },
     "execution_count": 9,
     "metadata": {},
     "output_type": "execute_result"
    }
   ],
   "source": [
    "#check duplicates\n",
    "df.duplicated().sum()"
   ]
  },
  {
   "cell_type": "code",
   "execution_count": 10,
   "id": "5c9785a6",
   "metadata": {},
   "outputs": [],
   "source": [
    "#drop duplicates\n",
    "df.drop_duplicates(inplace = True)"
   ]
  },
  {
   "cell_type": "code",
   "execution_count": 11,
   "id": "0fd8e0f6",
   "metadata": {},
   "outputs": [
    {
     "data": {
      "text/plain": [
       "0"
      ]
     },
     "execution_count": 11,
     "metadata": {},
     "output_type": "execute_result"
    }
   ],
   "source": [
    "#check duplicates after drop\n",
    "df.duplicated().sum()"
   ]
  },
  {
   "cell_type": "markdown",
   "id": "96835a65",
   "metadata": {},
   "source": [
    "## Check Missing Values"
   ]
  },
  {
   "cell_type": "code",
   "execution_count": null,
   "id": "455e56e6",
   "metadata": {},
   "outputs": [],
   "source": [
    " #check which columns has na values\n",
    "df.isna().any()"
   ]
  },
  {
   "cell_type": "code",
   "execution_count": null,
   "id": "3f90c102",
   "metadata": {},
   "outputs": [],
   "source": [
    "# check no of na values in each column\n",
    "df.isna().sum()\n",
    "#There are nulls in job/education/ contact and poutcome columns"
   ]
  },
  {
   "cell_type": "code",
   "execution_count": null,
   "id": "ce62b80e",
   "metadata": {
    "scrolled": true
   },
   "outputs": [],
   "source": [
    "#check percentage of na values in each column\n",
    "((df.isna().sum())/len(df))*100"
   ]
  },
  {
   "cell_type": "code",
   "execution_count": null,
   "id": "d25803a3",
   "metadata": {},
   "outputs": [],
   "source": [
    "#check the effect of nulls on the target\n",
    "df[df[\"job\"].isnull() == True][\"y\"].value_counts()"
   ]
  },
  {
   "cell_type": "code",
   "execution_count": null,
   "id": "f73c3531",
   "metadata": {},
   "outputs": [],
   "source": [
    "#check the effect of nulls on the target\n",
    "df[df[\"education\"].isnull() == True][\"y\"].value_counts()"
   ]
  },
  {
   "cell_type": "code",
   "execution_count": null,
   "id": "8e81c65c",
   "metadata": {},
   "outputs": [],
   "source": [
    "#check the effect of nulls on the target\n",
    "df[df[\"contact\"].isnull() == True][\"y\"].value_counts()"
   ]
  },
  {
   "cell_type": "code",
   "execution_count": null,
   "id": "bd1bc24e",
   "metadata": {},
   "outputs": [],
   "source": [
    "#check the effect of nulls on the target\n",
    "df[df[\"poutcome\"].isnull() == True][\"y\"].value_counts()"
   ]
  },
  {
   "cell_type": "code",
   "execution_count": null,
   "id": "b47da83c",
   "metadata": {},
   "outputs": [],
   "source": [
    "#drop unnecessary columns and that has missings exceed 50%\n",
    "df.drop(\"poutcome\",axis = 1, inplace= True)"
   ]
  },
  {
   "cell_type": "code",
   "execution_count": null,
   "id": "4048a46f",
   "metadata": {},
   "outputs": [],
   "source": [
    "#drop null rows that not exceeding 8%\n",
    "df.dropna(subset=['job','education'], inplace = True)"
   ]
  },
  {
   "cell_type": "code",
   "execution_count": null,
   "id": "21c06638",
   "metadata": {},
   "outputs": [],
   "source": [
    "#check values of contact columns to use in the next cell\n",
    "df[\"contact\"].value_counts()"
   ]
  },
  {
   "cell_type": "code",
   "execution_count": null,
   "id": "93faa18b",
   "metadata": {},
   "outputs": [],
   "source": [
    "#filling nulls by using Mode\n",
    "df[\"contact\"].fillna(df[\"contact\"].mode()[0], inplace = True)"
   ]
  },
  {
   "cell_type": "code",
   "execution_count": null,
   "id": "c538b1e3",
   "metadata": {},
   "outputs": [],
   "source": [
    "#check values of conotact column\n",
    "df[\"contact\"].value_counts()"
   ]
  },
  {
   "cell_type": "code",
   "execution_count": null,
   "id": "250f21ff",
   "metadata": {},
   "outputs": [],
   "source": [
    "#check columns type and nulls \n",
    "df.info()"
   ]
  },
  {
   "cell_type": "markdown",
   "id": "3c10e30f",
   "metadata": {},
   "source": [
    "## Univariate Analysis"
   ]
  },
  {
   "cell_type": "code",
   "execution_count": null,
   "id": "b48f2fe4",
   "metadata": {},
   "outputs": [],
   "source": [
    "#print columns of the data to use below\n",
    "df.columns"
   ]
  },
  {
   "cell_type": "code",
   "execution_count": null,
   "id": "a9475ae8",
   "metadata": {},
   "outputs": [],
   "source": [
    "#The distribution of the Age\n",
    "sns.distplot(df[\"age\"])\n",
    "sns.set(rc={'figure.figsize':(8,8.27)})"
   ]
  },
  {
   "cell_type": "code",
   "execution_count": null,
   "id": "067be6ea",
   "metadata": {},
   "outputs": [],
   "source": [
    "sns.countplot(df[\"y\"],palette= \"Set2\")"
   ]
  },
  {
   "cell_type": "code",
   "execution_count": null,
   "id": "1d6fbb73",
   "metadata": {},
   "outputs": [],
   "source": [
    "df[\"age\"].value_counts().head(10)"
   ]
  },
  {
   "cell_type": "code",
   "execution_count": null,
   "id": "b9d1f808",
   "metadata": {},
   "outputs": [],
   "source": [
    "#blue_collar is the most job category accepts the marketing campaign\n",
    "df[\"job\"].value_counts()"
   ]
  },
  {
   "cell_type": "code",
   "execution_count": null,
   "id": "b2038a3f",
   "metadata": {},
   "outputs": [],
   "source": [
    "#Pie chart of all Cat columns\n",
    "cat = list(df.select_dtypes(include = \"object\").columns)\n",
    "for i in cat:\n",
    "    df.groupby(i).size().plot(kind='pie',label = i,autopct='%1.0f%%',shadow=True)\n",
    "    plt.show()\n",
    "    sns.set(rc={'figure.figsize':(11,8.27)})"
   ]
  },
  {
   "cell_type": "code",
   "execution_count": null,
   "id": "82ade2ba",
   "metadata": {},
   "outputs": [],
   "source": [
    "df.groupby(\"y\").size().plot(kind='pie',label = \"y\",autopct='%1.0f%%',shadow=True)\n",
    "plt.show()\n",
    "sns.set(rc={'figure.figsize':(11,8.27)})"
   ]
  },
  {
   "cell_type": "code",
   "execution_count": null,
   "id": "236ca6dc",
   "metadata": {},
   "outputs": [],
   "source": [
    "#Most people don't have a bank account\n",
    "df[\"default\"].value_counts()"
   ]
  },
  {
   "cell_type": "code",
   "execution_count": null,
   "id": "7cb19592",
   "metadata": {},
   "outputs": [],
   "source": [
    "#Most people don't have a bank account by visual.\n",
    "sns.countplot(df[\"default\"],palette= \"Set2\")"
   ]
  },
  {
   "cell_type": "code",
   "execution_count": null,
   "id": "cd79eaf0",
   "metadata": {},
   "outputs": [],
   "source": [
    "#Most people accept the marketing campaign in May, Jul Then Aug\n",
    "df[\"month\"].value_counts()"
   ]
  },
  {
   "cell_type": "code",
   "execution_count": null,
   "id": "00237645",
   "metadata": {},
   "outputs": [],
   "source": [
    "#Most people accept the marketing campaign in May, Jul Then Aug buy visualization\n",
    "sns.countplot(df[\"month\"],order = df['month'].value_counts().index,palette= \"Set2\")"
   ]
  },
  {
   "cell_type": "code",
   "execution_count": null,
   "id": "bf60b607",
   "metadata": {},
   "outputs": [],
   "source": [
    "#Most people don't accept marketing campaign\n",
    "df[\"y\"].value_counts()"
   ]
  },
  {
   "cell_type": "code",
   "execution_count": null,
   "id": "d02f1517",
   "metadata": {},
   "outputs": [],
   "source": [
    "#Most people don't accept marketing campaign by visualization\n",
    "sns.countplot(df[\"y\"],palette= \"Set2\")"
   ]
  },
  {
   "cell_type": "code",
   "execution_count": null,
   "id": "0c408e05",
   "metadata": {},
   "outputs": [],
   "source": [
    "#Most people have housing loans\n",
    "df[\"housing\"].value_counts()"
   ]
  },
  {
   "cell_type": "code",
   "execution_count": null,
   "id": "05afccfa",
   "metadata": {},
   "outputs": [],
   "source": [
    "#Most people have housing loans by visualization\n",
    "sns.countplot(df[\"housing\"],palette= \"Set2\")"
   ]
  },
  {
   "cell_type": "code",
   "execution_count": null,
   "id": "1dc0b2fc",
   "metadata": {},
   "outputs": [],
   "source": [
    "#Most people are married\n",
    "df[\"marital\"].value_counts()"
   ]
  },
  {
   "cell_type": "code",
   "execution_count": null,
   "id": "14e06971",
   "metadata": {},
   "outputs": [],
   "source": [
    "#Most people are married by visualization\n",
    "sns.countplot(df[\"marital\"],palette= \"Set2\")"
   ]
  },
  {
   "cell_type": "code",
   "execution_count": null,
   "id": "af2a99c4",
   "metadata": {},
   "outputs": [],
   "source": [
    "#Most people have not loans by visualization\n",
    "sns.countplot(df[\"loan\"],palette= \"Set2\")"
   ]
  },
  {
   "cell_type": "code",
   "execution_count": null,
   "id": "fbfef68d",
   "metadata": {},
   "outputs": [],
   "source": [
    "#Distributuin of campaign (no of contacts during this Campaign)\n",
    "sns.distplot(df[\"campaign\"])\n",
    "sns.set(rc={'figure.figsize':(11,8.27)})"
   ]
  },
  {
   "cell_type": "code",
   "execution_count": null,
   "id": "1642c081",
   "metadata": {},
   "outputs": [],
   "source": [
    "#Distributuin of duration (last contact duration in seconds)\n",
    "sns.distplot(df[\"duration\"],)\n",
    "sns.set(rc={'figure.figsize':(11,8.27)})"
   ]
  },
  {
   "cell_type": "code",
   "execution_count": null,
   "id": "042472a3",
   "metadata": {},
   "outputs": [],
   "source": [
    "sns.distplot(df[\"previous\"])\n",
    "sns.set(rc={'figure.figsize':(14,8.27)})"
   ]
  },
  {
   "cell_type": "code",
   "execution_count": null,
   "id": "c9c4afe3",
   "metadata": {},
   "outputs": [],
   "source": [
    "#Most people accept the Mrketing campaign in 20th of each month\n",
    "sns.countplot(data=df, y = \"day\")\n",
    "sns.set(rc={'figure.figsize':(14,8.27)})"
   ]
  },
  {
   "cell_type": "code",
   "execution_count": null,
   "id": "adbce761",
   "metadata": {},
   "outputs": [],
   "source": [
    "# No of days from the last contact day shoudn't be Negative\n",
    "df[df[\"pdays\"] == -1]"
   ]
  },
  {
   "cell_type": "code",
   "execution_count": null,
   "id": "f7c7ece0",
   "metadata": {},
   "outputs": [],
   "source": [
    "len(df[df[\"pdays\"] == -1])/df.shape[0]"
   ]
  },
  {
   "cell_type": "code",
   "execution_count": null,
   "id": "d2e066ff",
   "metadata": {},
   "outputs": [],
   "source": [
    "\n",
    "df.drop([\"pdays\"],inplace=True,axis = 1)"
   ]
  },
  {
   "cell_type": "code",
   "execution_count": null,
   "id": "f2525f41",
   "metadata": {},
   "outputs": [],
   "source": [
    "df[\"duration_in_mins\"] = df[\"duration\"]/60"
   ]
  },
  {
   "cell_type": "code",
   "execution_count": null,
   "id": "313bf621",
   "metadata": {},
   "outputs": [],
   "source": [
    "df[df[\"duration_in_mins\"] > 15.00][\"y\"].value_counts()"
   ]
  },
  {
   "cell_type": "code",
   "execution_count": null,
   "id": "a921cd7e",
   "metadata": {},
   "outputs": [],
   "source": [
    "df[df[\"duration_in_mins\"] < 15.00][\"y\"].value_counts()"
   ]
  },
  {
   "cell_type": "code",
   "execution_count": null,
   "id": "049cede1",
   "metadata": {},
   "outputs": [],
   "source": [
    "df[df[\"balance\"] <0][\"y\"].value_counts()"
   ]
  },
  {
   "cell_type": "code",
   "execution_count": null,
   "id": "ea9b27e7",
   "metadata": {},
   "outputs": [],
   "source": [
    "df[df[\"balance\"] > 1000][\"y\"].value_counts()"
   ]
  },
  {
   "cell_type": "markdown",
   "id": "4de05e1b",
   "metadata": {},
   "source": [
    "## Bivariate Analysis"
   ]
  },
  {
   "cell_type": "code",
   "execution_count": null,
   "id": "6722b54e",
   "metadata": {},
   "outputs": [],
   "source": [
    "#Correlation of columns\n",
    "sns.heatmap(df.corr(), annot= True, robust=True)"
   ]
  },
  {
   "cell_type": "code",
   "execution_count": null,
   "id": "73038013",
   "metadata": {},
   "outputs": [],
   "source": [
    "sns.lineplot(x=\"age\",data =df, y=\"job\" )"
   ]
  },
  {
   "cell_type": "code",
   "execution_count": null,
   "id": "833c4b55",
   "metadata": {},
   "outputs": [],
   "source": [
    "sns.lineplot(x=\"age\",data =df, y=\"balance\",estimator='mean')"
   ]
  },
  {
   "cell_type": "code",
   "execution_count": null,
   "id": "50697904",
   "metadata": {},
   "outputs": [],
   "source": [
    "sns.lineplot(x=\"age\",data =df, y=\"duration_in_mins\")"
   ]
  },
  {
   "cell_type": "code",
   "execution_count": null,
   "id": "59c0ffcf",
   "metadata": {},
   "outputs": [],
   "source": [
    "df.pivot_table(columns=\"y\", index = \"education\",values = \"balance\",aggfunc=\"sum\")"
   ]
  },
  {
   "cell_type": "code",
   "execution_count": null,
   "id": "b2e26851",
   "metadata": {},
   "outputs": [],
   "source": [
    "df.pivot_table(columns=\"housing\", index = \"education\",values = \"balance\",aggfunc=\"sum\")"
   ]
  },
  {
   "cell_type": "code",
   "execution_count": null,
   "id": "b55d0e9c",
   "metadata": {},
   "outputs": [],
   "source": [
    "df.pivot_table(columns=\"y\", index = \"job\",values = \"balance\",aggfunc=\"sum\")"
   ]
  },
  {
   "cell_type": "code",
   "execution_count": null,
   "id": "b9414579",
   "metadata": {},
   "outputs": [],
   "source": [
    "# Descriptive Statistics of the data\n",
    "df.describe(include = \"all\")"
   ]
  },
  {
   "cell_type": "code",
   "execution_count": null,
   "id": "793072e2",
   "metadata": {},
   "outputs": [],
   "source": [
    "import plotly.express as px"
   ]
  },
  {
   "cell_type": "code",
   "execution_count": null,
   "id": "9076e648",
   "metadata": {},
   "outputs": [],
   "source": [
    "#box plot of all numerical columns\n",
    "Num = list(df.select_dtypes(exclude= \"object\").columns)\n",
    "for i in Num:\n",
    "    print(i)\n",
    "    x = px.box(data_frame= df, x= i,labels=i)\n",
    "    print(x.show())"
   ]
  },
  {
   "cell_type": "code",
   "execution_count": null,
   "id": "1a7a52bd",
   "metadata": {},
   "outputs": [],
   "source": [
    "#sns.boxplot(data = df, x= \"age\")"
   ]
  },
  {
   "cell_type": "code",
   "execution_count": null,
   "id": "5bce5a3a",
   "metadata": {},
   "outputs": [],
   "source": [
    "#df[df[\"balance\"] != 0][\"balance\"].value_counts().head(10)"
   ]
  },
  {
   "cell_type": "code",
   "execution_count": null,
   "id": "583287e0",
   "metadata": {},
   "outputs": [],
   "source": [
    "    len(df[df[\"age\"] > 80])"
   ]
  },
  {
   "cell_type": "code",
   "execution_count": null,
   "id": "c6bdf46e",
   "metadata": {},
   "outputs": [],
   "source": [
    "df.drop(labels = (df[df[\"age\"] > 80]).index, axis = 0, inplace = True)"
   ]
  },
  {
   "cell_type": "code",
   "execution_count": null,
   "id": "7a43b9e2",
   "metadata": {},
   "outputs": [],
   "source": [
    "df[\"age\"].max()"
   ]
  },
  {
   "cell_type": "markdown",
   "id": "07fcc4ef",
   "metadata": {},
   "source": [
    " ## Preprocessing"
   ]
  },
  {
   "cell_type": "code",
   "execution_count": null,
   "id": "36b7ca76",
   "metadata": {},
   "outputs": [],
   "source": [
    "df.drop(labels = [\"balance\",\"duration\"], axis = 1, inplace = True)"
   ]
  },
  {
   "cell_type": "code",
   "execution_count": null,
   "id": "426003c3",
   "metadata": {},
   "outputs": [],
   "source": [
    "df = pd.get_dummies(data=df,drop_first=True)"
   ]
  },
  {
   "cell_type": "code",
   "execution_count": null,
   "id": "7e6d54b4",
   "metadata": {},
   "outputs": [],
   "source": [
    "df.columns"
   ]
  },
  {
   "cell_type": "code",
   "execution_count": null,
   "id": "8e218715",
   "metadata": {},
   "outputs": [],
   "source": [
    "df.rename(columns = {'y_yes':'y'}, inplace = True)"
   ]
  },
  {
   "cell_type": "code",
   "execution_count": null,
   "id": "4ba94eb1",
   "metadata": {},
   "outputs": [],
   "source": [
    "x = df.drop([\"y\"],axis = 1)\n",
    "y = df[\"y\"]"
   ]
  },
  {
   "cell_type": "code",
   "execution_count": null,
   "id": "19ea92ef",
   "metadata": {},
   "outputs": [],
   "source": [
    "from imblearn.under_sampling import RandomUnderSampler\n",
    "sm = RandomUnderSampler(random_state=42)\n",
    "x_res, y_res = sm.fit_resample(x, y)\n",
    "\n",
    "from sklearn.model_selection import train_test_split\n",
    "x_train, x_test, y_train, y_test = train_test_split(x_res,y_res,test_size= 0.2, random_state= 15,shuffle=True)"
   ]
  },
  {
   "cell_type": "code",
   "execution_count": null,
   "id": "dce9b904",
   "metadata": {},
   "outputs": [],
   "source": [
    "from sklearn.model_selection import train_test_split\n",
    "x_train, x_test, y_train, y_test = train_test_split(x,y,test_size= 0.2, random_state= 15,shuffle=True)"
   ]
  },
  {
   "cell_type": "code",
   "execution_count": null,
   "id": "0c50b568",
   "metadata": {},
   "outputs": [],
   "source": [
    "from sklearn.preprocessing import RobustScaler\n",
    "scaler= RobustScaler()\n",
    "scaler.fit(x_train)\n",
    "x_train = scaler.transform(x_train)\n",
    "x_test = scaler.transform(x_test)"
   ]
  },
  {
   "cell_type": "code",
   "execution_count": null,
   "id": "1c4cfb3a",
   "metadata": {},
   "outputs": [],
   "source": [
    "from sklearn.linear_model import LogisticRegression\n",
    "from sklearn.metrics import classification_report, accuracy_score, confusion_matrix,f1_score\n",
    "\n",
    "model = LogisticRegression()\n",
    "model.fit(x_train, y_train)\n",
    "y_predict = model.predict(x_test)\n",
    "\n",
    "print(confusion_matrix(y_test,y_predict))\n",
    "print(accuracy_score(y_test,y_predict))\n",
    "print(classification_report(y_test,y_predict))\n",
    "print(f1_score(y_test,y_predict))\n"
   ]
  },
  {
   "cell_type": "code",
   "execution_count": null,
   "id": "e55780a9",
   "metadata": {},
   "outputs": [],
   "source": [
    "from sklearn.neighbors import KNeighborsClassifier\n",
    "from sklearn.metrics import classification_report, accuracy_score, confusion_matrix\n",
    "\n",
    "model = KNeighborsClassifier()\n",
    "model.fit(x_train, y_train)\n",
    "y_predict = model.predict(x_test)\n",
    "\n",
    "print(confusion_matrix(y_test,y_predict))\n",
    "print(accuracy_score(y_test,y_predict))\n",
    "print(classification_report(y_test,y_predict))\n",
    "print(f1_score(y_test,y_predict))"
   ]
  },
  {
   "cell_type": "code",
   "execution_count": null,
   "id": "2baf28f6",
   "metadata": {},
   "outputs": [],
   "source": [
    "from sklearn.tree import DecisionTreeClassifier\n",
    "from sklearn.metrics import classification_report, accuracy_score, confusion_matrix\n",
    "\n",
    "model = DecisionTreeClassifier()\n",
    "model.fit(x_train, y_train)\n",
    "y_predict = model.predict(x_test)\n",
    "\n",
    "print(confusion_matrix(y_test,y_predict))\n",
    "print(accuracy_score(y_test,y_predict))\n",
    "print(classification_report(y_test,y_predict))\n",
    "print(f1_score(y_test,y_predict))"
   ]
  },
  {
   "cell_type": "code",
   "execution_count": null,
   "id": "a206f2ef",
   "metadata": {},
   "outputs": [],
   "source": [
    "from sklearn.svm import SVC\n",
    "from sklearn.metrics import classification_report, accuracy_score, confusion_matrix\n",
    "\n",
    "model = SVC()\n",
    "model.fit(x_train, y_train)\n",
    "y_predict = model.predict(x_test)\n",
    "\n",
    "print(confusion_matrix(y_test,y_predict))\n",
    "print(accuracy_score(y_test,y_predict))\n",
    "print(classification_report(y_test,y_predict))\n",
    "print(f1_score(y_test,y_predict))"
   ]
  },
  {
   "cell_type": "code",
   "execution_count": null,
   "id": "dc78d532",
   "metadata": {},
   "outputs": [],
   "source": [
    "from sklearn.ensemble import RandomForestClassifier\n",
    "from sklearn.metrics import classification_report, accuracy_score, confusion_matrix\n",
    "\n",
    "model = RandomForestClassifier()\n",
    "model.fit(x_train, y_train)\n",
    "y_predict = model.predict(x_test)\n",
    "\n",
    "print(confusion_matrix(y_test,y_predict))\n",
    "print(accuracy_score(y_test,y_predict))\n",
    "print(classification_report(y_test,y_predict))\n",
    "print(f1_score(y_test,y_predict))"
   ]
  },
  {
   "cell_type": "code",
   "execution_count": null,
   "id": "56ed87fb",
   "metadata": {},
   "outputs": [],
   "source": [
    "numeric_columns = x_train.select_dtypes(exclude = \"object\").columns"
   ]
  },
  {
   "cell_type": "code",
   "execution_count": null,
   "id": "c7b359f0",
   "metadata": {},
   "outputs": [],
   "source": [
    "Categorical_columns = x_train.select_dtypes(include = \"object\").columns"
   ]
  },
  {
   "cell_type": "code",
   "execution_count": null,
   "id": "06bad150",
   "metadata": {},
   "outputs": [],
   "source": [
    "from sklearn.preprocessing import RobustScaler #for scaling\n",
    "from sklearn.impute import SimpleImputer #for handling missing values\n",
    "from sklearn.pipeline import Pipeline\n",
    "from sklearn.preprocessing import OneHotEncoder\n",
    "from imblearn.under_sampling import RandomUnderSampler\n",
    "\n",
    "numeric_features = Pipeline(steps = [(\"scaling\",RobustScaler(with_centering=False))])\n",
    "Categorical_features = Pipeline(steps =[(\"handlingmissing\", SimpleImputer(strategy= \"most_frequent\")),(\"Encoding\",OneHotEncoder()),(\"scaling\",RobustScaler(with_centering=False))])\n"
   ]
  },
  {
   "cell_type": "code",
   "execution_count": null,
   "id": "7acffcd0",
   "metadata": {},
   "outputs": [],
   "source": [
    "from sklearn.compose import ColumnTransformer\n",
    "processing = ColumnTransformer([(\"numeric\",numeric_features,numeric_columns),(\"cat\",Categorical_features,Categorical_columns)])"
   ]
  },
  {
   "cell_type": "code",
   "execution_count": null,
   "id": "57558589",
   "metadata": {},
   "outputs": [],
   "source": [
    "processing"
   ]
  },
  {
   "cell_type": "code",
   "execution_count": null,
   "id": "96c12574",
   "metadata": {},
   "outputs": [],
   "source": [
    "from sklearn.ensemble import RandomForestClassifier\n",
    "Final_pip = Pipeline(steps = [(\"preprocessing\", processing),(\"modelling\",RandomForestClassifier())])"
   ]
  },
  {
   "cell_type": "code",
   "execution_count": null,
   "id": "220b8f13",
   "metadata": {},
   "outputs": [],
   "source": [
    "Final_pip"
   ]
  },
  {
   "cell_type": "code",
   "execution_count": null,
   "id": "ce6776fa",
   "metadata": {},
   "outputs": [],
   "source": [
    "Final_pip.fit(x_train,y_train)"
   ]
  },
  {
   "cell_type": "code",
   "execution_count": null,
   "id": "48735b4b",
   "metadata": {},
   "outputs": [],
   "source": [
    "Final_pip.predict(x_test)"
   ]
  },
  {
   "cell_type": "code",
   "execution_count": null,
   "id": "822ab525",
   "metadata": {},
   "outputs": [],
   "source": [
    "import joblib\n",
    "model_save = joblib.dump(Final_pip,\"model.plk\")"
   ]
  },
  {
   "cell_type": "code",
   "execution_count": null,
   "id": "7f82b009",
   "metadata": {},
   "outputs": [],
   "source": [
    "import joblib\n",
    "model_save = joblib.load(\"model.plk\")"
   ]
  },
  {
   "cell_type": "code",
   "execution_count": null,
   "id": "e83b1a2d",
   "metadata": {},
   "outputs": [],
   "source": [
    "model_save"
   ]
  },
  {
   "cell_type": "code",
   "execution_count": null,
   "id": "14e4041d",
   "metadata": {},
   "outputs": [],
   "source": [
    "import streamlit"
   ]
  },
  {
   "cell_type": "code",
   "execution_count": null,
   "id": "ae85cedd",
   "metadata": {},
   "outputs": [],
   "source": [
    "df.columns"
   ]
  },
  {
   "cell_type": "code",
   "execution_count": null,
   "id": "3a8b0762",
   "metadata": {},
   "outputs": [],
   "source": [
    "%%writefile app_1.py\n",
    "import numpy as np\n",
    "import pandas as pd\n",
    "import streamlit as st\n",
    "import joblib\n",
    "\n",
    "regression  = joblib.load(\"model.plk\")\n",
    "\n",
    "def welcome():\n",
    "    return \"Welcome All\"\n",
    "\n",
    "def predict_deposit (age, job, marital, education, default, housing, loan, contact, day, month, duration_in_mins, campaign, pdays, previous):\n",
    "    prediction = regression.predict(pd.DataFrame({'age':[age],'job':[job], 'marital':[marital], 'education':[education], 'default':[default],'housing':[housing],'loan':[loan],'contact':[contact],'day':[day],'month':[month],'duration_in_mins':[duration_in_mins],'campaign':[campaign],'pdays':[pdays],'previous':[previous]}))\n",
    "    print(prediction)\n",
    "    return prediction\n",
    "\n",
    "def main():\n",
    "    st.title(\"Bank Marketing\")\n",
    "    html_temp = \"\"\"\n",
    "    <div style =\"background-color:tomato;padding;10px\">\n",
    "    <h2 stylr = \"color:white;text-align:center;\">streamlit Bank Marketing App</h2>\n",
    "    </div>\n",
    "    \"\"\"\n",
    "    st.markdown(html_temp,unsafe_allow_html =True)\n",
    "    age = st.text_input(\"age\",\"Type Here\")\n",
    "    job = st.text_input(\"job\",\"Type Here\")\n",
    "    marital = st.text_input(\"marital\",\"Type Here\")\n",
    "    education = st.text_input(\"education\",\"Type Here\")\n",
    "    default = st.text_input(\"default\",\"Type Here\")\n",
    "    housing = st.text_input(\"housing\",\"Type Here\")\n",
    "    loan = st.text_input(\"loan\",\"Type Here\")\n",
    "    contact = st.text_input(\"contact\",\"Type Here\")\n",
    "    day = st.text_input(\"day\",\"Type Here\")\n",
    "    month = st.text_input(\"month\",\"Type Here\")\n",
    "    duration_in_mins = st.text_input(\"duration_in_mins\",\"Type Here\")\n",
    "    campaign = st.text_input(\"campaign\",\"Type Here\")\n",
    "    pdays = st.text_input(\"pdays\",\"Type Here\")\n",
    "    previous = st.text_input(\"previous\",\"Type Here\")\n",
    "    \n",
    "    result = \"\"\n",
    "    \n",
    "    if st.button(\"predict\"):\n",
    "        result= predict_deposit(age, job, marital, education, default, housing, loan, contact, day, month, duration_in_mins, campaign, pdays, previous)\n",
    "    st.success(\"The output is {}\".format(result))\n",
    "\n",
    "        \n",
    "if __name__=='__main__':\n",
    "    main()"
   ]
  },
  {
   "cell_type": "code",
   "execution_count": null,
   "id": "fe46792a",
   "metadata": {},
   "outputs": [],
   "source": [
    "! streamlit run app_1.py"
   ]
  },
  {
   "cell_type": "code",
   "execution_count": null,
   "id": "9c8891db",
   "metadata": {},
   "outputs": [],
   "source": [
    "df.head()"
   ]
  },
  {
   "cell_type": "code",
   "execution_count": null,
   "id": "2634531f",
   "metadata": {},
   "outputs": [],
   "source": []
  },
  {
   "cell_type": "code",
   "execution_count": null,
   "id": "207c60ce",
   "metadata": {},
   "outputs": [],
   "source": []
  }
 ],
 "metadata": {
  "kernelspec": {
   "display_name": "Python 3",
   "language": "python",
   "name": "python3"
  },
  "language_info": {
   "codemirror_mode": {
    "name": "ipython",
    "version": 3
   },
   "file_extension": ".py",
   "mimetype": "text/x-python",
   "name": "python",
   "nbconvert_exporter": "python",
   "pygments_lexer": "ipython3",
   "version": "3.8.8"
  }
 },
 "nbformat": 4,
 "nbformat_minor": 5
}
